{
 "cells": [
  {
   "cell_type": "code",
   "execution_count": null,
   "metadata": {},
   "outputs": [],
   "source": [
    "import requests\n",
    "from bs4 import BeautifulSoup\n",
    "from tqdm import tqdm\n",
    "from IES_Downloader import IES_Downloader\n",
    "from IPython.core.debugger import Tracer"
   ]
  },
  {
   "cell_type": "markdown",
   "metadata": {},
   "source": [
    "# Lecture 6 - IES Web scraper\n",
    "\n",
    "by Vítek Macháček\n",
    "\n",
    "March 27th and 28th, 2019\n",
    "\n",
    "* Putting it all together\n",
    "* OOP + Pandas + Requests + BeautifulSoup"
   ]
  },
  {
   "cell_type": "markdown",
   "metadata": {},
   "source": [
    "## Object-oriented Programming\n",
    "* Brief reminder of how objects work\n",
    "\n",
    "### Docstring + Objects + Inheriting + Constructors"
   ]
  },
  {
   "cell_type": "code",
   "execution_count": 50,
   "metadata": {},
   "outputs": [],
   "source": [
    "class Parent:\n",
    "    '''\n",
    "    A very brief and helpful description of the Parent class\n",
    "    '''\n",
    "    def __init__(self,arg):\n",
    "        '''\n",
    "        Exact and brief description of parent's constructor\n",
    "        '''\n",
    "        self.attribute = 'x'\n",
    "        self.id = arg\n",
    "        \n",
    "    def parentMethod(self):\n",
    "        '''\n",
    "        Good description of parentMethod\n",
    "        '''\n",
    "        pass\n",
    "    \n",
    "class Child(Parent):\n",
    "    '''\n",
    "    This is what Child is good for\n",
    "    '''\n",
    "    def __init__(self,arg,desc):\n",
    "        '''\n",
    "        Exact and brief description of Child's contructor\n",
    "        '''\n",
    "        super().__init__(arg)\n",
    "        self.desc = desc\n",
    "    \n",
    "    def childMethod(self,arg):\n",
    "        '''\n",
    "        Good description of childMethod\n",
    "        '''\n",
    "        return len(arg)\n",
    "\n",
    "    \n",
    "par = Parent('A parent')\n",
    "ch = Child(999,'A child')\n"
   ]
  },
  {
   "cell_type": "code",
   "execution_count": 52,
   "metadata": {},
   "outputs": [
    {
     "data": {
      "text/plain": [
       "\u001b[0;31mType:\u001b[0m           Parent\n",
       "\u001b[0;31mString form:\u001b[0m    <__main__.Parent object at 0x7fc586e1b278>\n",
       "\u001b[0;31mDocstring:\u001b[0m      A very brief and helpful description of the Parent class\n",
       "\u001b[0;31mInit docstring:\u001b[0m Exact and brief description of parent's constructor\n"
      ]
     },
     "metadata": {},
     "output_type": "display_data"
    }
   ],
   "source": [
    "?par"
   ]
  },
  {
   "cell_type": "markdown",
   "metadata": {},
   "source": [
    "## Task:\n",
    "* A parser of IES websites with following features:\n",
    "    * All info about people from [Internal faculty](http://ies.fsv.cuni.cz/en/node/48), [External lecturers](http://ies.fsv.cuni.cz/en/node/49), [Ph.D. candidates](http://ies.fsv.cuni.cz/en/node/51) and [Administration](http://ies.fsv.cuni.cz/en/node/50)\n",
    "    * All info about [all](http://ies.fsv.cuni.cz/en/node/109) theses between 1994 and 2019\n",
    "    * Also all courses! But no list of courses available ..."
   ]
  },
  {
   "cell_type": "code",
   "execution_count": null,
   "metadata": {},
   "outputs": [],
   "source": []
  },
  {
   "cell_type": "markdown",
   "metadata": {},
   "source": [
    "### Robots.txt\n",
    "\n",
    "* Is it OK to scrape?\n",
    "* Guidance for search engines etc.\n"
   ]
  },
  {
   "cell_type": "code",
   "execution_count": 53,
   "metadata": {},
   "outputs": [
    {
     "data": {
      "text/plain": [
       "<Response [404]>"
      ]
     },
     "execution_count": 53,
     "metadata": {},
     "output_type": "execute_result"
    }
   ],
   "source": [
    "requests.get('http://ies.fsv.cuni.cz/robots.txt')"
   ]
  },
  {
   "cell_type": "code",
   "execution_count": 54,
   "metadata": {},
   "outputs": [
    {
     "name": "stdout",
     "output_type": "stream",
     "text": [
      "User-agent: *\n",
      "Disallow: /advertpdf/\n",
      "Disallow: /favourites-info\n",
      "Disallow: *_buri=\n",
      "Disallow: /adresar/*page=\n",
      "Disallow: /adresar/*perPage=\n",
      "Disallow: /adresar/*search=\n",
      "Disallow: /adresar/*letter=\n",
      "Disallow: /adresar/*id=\n",
      "Disallow: /firma/*page=\n",
      "Disallow: /firma/*perPage=\n",
      "Disallow: /firma/*search=\n",
      "Disallow: /firma/*letter=\n",
      "Disallow: /firma/*id=\n",
      "Disallow: /hledani/*,\n",
      "Allow: /hledani/*region=*,\n",
      "Disallow: /rk-detail\n",
      "Disallow: *bez-aukce=\n",
      "Disallow: *without-auction=\n",
      "\n",
      "\n",
      "User-agent: SeznamBot\n",
      "Disallow: /advertpdf/\n",
      "Disallow: /en/\n",
      "Disallow: /ru/\n",
      "Disallow: /favourites-info\n",
      "Disallow: *_buri=\n",
      "Disallow: /adresar/*page=\n",
      "Disallow: /adresar/*perPage=\n",
      "Disallow: /adresar/*search=\n",
      "Disallow: /adresar/*letter=\n",
      "Disallow: /adresar/*id=\n",
      "Disallow: /firma/*page=\n",
      "Disallow: /firma/*perPage=\n",
      "Disallow: /firma/*search=\n",
      "Disallow: /firma/*letter=\n",
      "Disallow: /firma/*id=\n",
      "Disallow: /hledani/*,\n",
      "Allow: /hledani/*region=*,\n",
      "Disallow: /rk-detail\n",
      "Disallow: *bez-aukce=\n",
      "Disallow: *without-auction=\n",
      "\n",
      "Sitemap: https://www.sreality.cz/sitemap.xml\n",
      "\n"
     ]
    }
   ],
   "source": [
    "print(requests.get('http://sreality.cz/robots.txt').text)"
   ]
  },
  {
   "cell_type": "markdown",
   "metadata": {},
   "source": [
    "## Pages\n",
    "\n",
    "### Find all persons?\n",
    "[Current faculty](http://ies.fsv.cuni.cz/en/node/48)"
   ]
  },
  {
   "cell_type": "code",
   "execution_count": null,
   "metadata": {},
   "outputs": [],
   "source": [
    "def getSoup(link):\n",
    "    r = requests.get(link)\n",
    "    r.encoding = 'UTF-8'\n",
    "    return BeautifulSoup(r.text,'lxml')"
   ]
  },
  {
   "cell_type": "code",
   "execution_count": 60,
   "metadata": {},
   "outputs": [],
   "source": [
    "def getAllLinks(link):\n",
    "    soup = getSoup(link)\n",
    "    #Tracer()()\n",
    "    tds = soup.findAll('td', {'class':'peopleTableCellName'})\n",
    "    return ['http://ies.fsv.cuni.cz' + td.find('a')['href'] for td in tds]\n",
    "\n",
    "links = getAllLinks('http://ies.fsv.cuni.cz/en/node/48')\n"
   ]
  },
  {
   "cell_type": "markdown",
   "metadata": {},
   "source": [
    "## Person's characteristics?"
   ]
  },
  {
   "cell_type": "code",
   "execution_count": 63,
   "metadata": {},
   "outputs": [
    {
     "data": {
      "text/plain": [
       "['doc. PhDr. Jozef Baruník Ph.D.',\n",
       " 'doc. PhDr. Michal Bauer Ph.D.',\n",
       " 'PhDr. Jaromír Baxa Ph.D.',\n",
       " 'PhDr. Lucie Bryndová ',\n",
       " 'doc. Ing. Tomáš Cahlík CSc.',\n",
       " 'PhDr. František Čech ',\n",
       " 'RNDr. Michal Červinka Ph.D.',\n",
       " 'doc. PhDr. Julie Chytilová Ph.D.',\n",
       " 'prof. Ing. Oldřich Dědek CSc.',\n",
       " 'doc. PhDr. Ing. Antonie Doležalová Ph.D.',\n",
       " 'doc. PhDr. Adam Geršl Ph.D.',\n",
       " 'doc. PhDr. Martin Gregor Ph.D.',\n",
       " 'doc. PhDr. Tomáš Havránek Ph.D.',\n",
       " 'doc. PhDr. Zuzana Havránková Ph.D.',\n",
       " 'PhDr. Michal Hlaváček Ph.D.',\n",
       " 'Ing. Monika Hollmannová ',\n",
       " 'doc. Mgr. Tomáš Holub Ph.D.',\n",
       " 'prof. Roman Horváth Ph.D.',\n",
       " 'doc. PhDr. Ing. Ing. Petr Jakubík Ph.D. Ph.D.',\n",
       " 'prof. Ing. Karel Janda M.A., Dr., Ph.D.',\n",
       " 'doc. Petr Janský Ph.D.',\n",
       " 'Ing. Irena Kemény ',\n",
       " 'prof. Ing. Evžen Kočenda M.A., Ph.D., DSc.',\n",
       " 'prof. Ing. et Ing. Luboš Komárek Ph.D., MSc., MBA',\n",
       " 'Mgr. Vědunka Kopečná ',\n",
       " 'doc. PhDr. Ladislav Krištoufek Ph.D.',\n",
       " 'PhDr. Jiří Kukačka Ph.D.',\n",
       " 'prof. Ing. Michal Mejstřík CSc.',\n",
       " 'Mgr. Ing. Matěj Nevrla ',\n",
       " ' Jiří Novák M.Sc., Ph.D., Deloitte Corporate Chair',\n",
       " 'Mgr. Tereza Palanská M.A.',\n",
       " 'Mgr. Michal Paulus ',\n",
       " 'Mgr. Magda Pečená  Ph.D.',\n",
       " 'Mgr. Barbara Pertold-Gebická M.A., Ph.D.',\n",
       " ' Julien Pinter Ph.D.',\n",
       " 'Mgr. Milan Ščasný PhD.',\n",
       " 'doc. Ing. Ondřej Schneider MPhil., Ph.D.',\n",
       " 'PhDr. Jiří Schwarz Ph.D.',\n",
       " 'Ing. Vilém Semerák M.A., Ph.D.',\n",
       " 'Mgr. Dominika Špolcová ',\n",
       " 'PhDr. Lenka Šťastná Ph.D.',\n",
       " 'PhDr. Natálie Švarcová Ph.D.',\n",
       " 'doc. PhDr. Petr Teplý Ph.D.',\n",
       " 'prof. RNDr. Ing. František Turnovec CSc.',\n",
       " 'PhDr. Pavel Vacek Ph.D.',\n",
       " 'Mgr. Lukáš Vácha Ph.D.',\n",
       " 'prof. RNDr. Jan Ámos Víšek CSc.',\n",
       " 'prof. Ing. Miloslav Vošvrda CSc.',\n",
       " 'PhDr. Jana Votápková ',\n",
       " 'Mgr. Jan Žáček ']"
      ]
     },
     "execution_count": 63,
     "metadata": {},
     "output_type": "execute_result"
    }
   ],
   "source": [
    "def getName(link):\n",
    "    soup = getSoup(link)\n",
    "    return soup.find('h2').text\n",
    "[getName(link) for link in links]"
   ]
  },
  {
   "cell_type": "code",
   "execution_count": 65,
   "metadata": {},
   "outputs": [
    {
     "data": {
      "text/plain": [
       "['barunik',\n",
       " 'bauerm',\n",
       " 'baxajaromir',\n",
       " 'antosova',\n",
       " 'cahlik',\n",
       " 'fcech',\n",
       " 'cervinka',\n",
       " 'chytilova',\n",
       " 'dedek',\n",
       " 'dolezalova',\n",
       " 'gersl',\n",
       " 'gregor',\n",
       " 'havranek',\n",
       " 'irsova',\n",
       " 'hlavacekm',\n",
       " 'hollmannov',\n",
       " 'holub',\n",
       " 'horvath',\n",
       " 'jakubik',\n",
       " 'janda',\n",
       " 'jansky',\n",
       " 'kemenyova',\n",
       " 'kocenda',\n",
       " 'komarek',\n",
       " 'kopecna',\n",
       " 'kristoufek',\n",
       " 'kukacka',\n",
       " 'mejstrik',\n",
       " 'nevrla',\n",
       " 'novakji',\n",
       " 'malirova',\n",
       " 'paulus',\n",
       " 'neprasova',\n",
       " 'gebicka',\n",
       " 'pinter',\n",
       " 'scasny',\n",
       " 'schneider',\n",
       " 'schwarz',\n",
       " 'semerak',\n",
       " 'reckova',\n",
       " 'gregorovalenka',\n",
       " 'reichlova',\n",
       " 'teply',\n",
       " 'turnovec',\n",
       " 'vacek',\n",
       " 'vacha',\n",
       " 'visek',\n",
       " 'vosvrda',\n",
       " 'prochazkova',\n",
       " 'zacek']"
      ]
     },
     "execution_count": 65,
     "metadata": {},
     "output_type": "execute_result"
    }
   ],
   "source": [
    "def getID(link):\n",
    "    #http://ies.fsv.cuni.cz/en/staff/barunik\n",
    "    return link.split('/')[-1]\n",
    "[getID(link) for link in links]"
   ]
  },
  {
   "cell_type": "code",
   "execution_count": 72,
   "metadata": {},
   "outputs": [
    {
     "data": {
      "text/plain": [
       "[[' +420(776)259273', ' 503'],\n",
       " [' 222 112 329', ' 402'],\n",
       " [' 222 112 309', ' 311'],\n",
       " [' ', ' '],\n",
       " [' 222 112 318', ' 410'],\n",
       " [' +420 776 535 106', ' 503'],\n",
       " ['  +420 26605 2345 ', ' O408(IES), 225(UTIA)'],\n",
       " [' 222 112 318', ' 410'],\n",
       " [' 222 112 325', ' 510'],\n",
       " [' n.a.', ' 311'],\n",
       " [' n.a.', ' on leave at JVI'],\n",
       " [' +420 222 112 306', ' 107'],\n",
       " [' 2.2441 2318', ' 2P312 (CNB), 311 IES'],\n",
       " [' 222 112 309', ' 311'],\n",
       " [' 736 524 520', ' 408'],\n",
       " [' 222 112 324', ' 509'],\n",
       " [' +420/22441-2340', ' 311'],\n",
       " [' 222 112 317', ' 409'],\n",
       " [' +49 69 9511 19393', ' 311'],\n",
       " [' +420 222 112 316', ' 408'],\n",
       " [' ', ' 510'],\n",
       " [' 222 112 323', ' 509'],\n",
       " [' 222 112 321', ' 508'],\n",
       " [' 736524516', ' '],\n",
       " [' ', ' 602'],\n",
       " [' line 312 (IES), line 2243 (UTIA)', ' 406'],\n",
       " [' +420 602 767 305', ' 406 IES, 247 UTIA'],\n",
       " [' +420 222 112 326', ' 511'],\n",
       " [' ', ' 602'],\n",
       " [' +420 222 112 314', ' 402'],\n",
       " [' +420 602 396 703', ' IES 602'],\n",
       " [' ', ' 602'],\n",
       " [' 222 112 309', ' 311'],\n",
       " [' ', ' 408'],\n",
       " [' ', ' 402'],\n",
       " [' (+420) 220 199  477 ', ' #408, EnvCntr #1617'],\n",
       " [' +1 301 530 5032', ' Bethesda, Maryland'],\n",
       " [' ', ' 311'],\n",
       " [' ', ' 311'],\n",
       " [' ', ' 602'],\n",
       " [' 222 112 309', ' 406'],\n",
       " [' ', ' '],\n",
       " [' +420 222 112 326', ' 511'],\n",
       " [' 222 112 307', ' 206a'],\n",
       " [' 733-644-300', ' 508'],\n",
       " [' 602 161 710', ' 503'],\n",
       " [' 222 112 313', ' 407'],\n",
       " [' 222 112 314', ' 402'],\n",
       " [' +420 777 576 698', ' 602'],\n",
       " [' ', ' 602']]"
      ]
     },
     "execution_count": 72,
     "metadata": {},
     "output_type": "execute_result"
    }
   ],
   "source": [
    "def getNextSiblingOfStrong(link,characteristic):\n",
    "    soup = getSoup(link)\n",
    "    strong = soup.find('strong',text=characteristic)\n",
    "    return strong.next_sibling\n",
    "\n",
    "def getMoreCharacteristics(link, characteristics):\n",
    "    return [getOneCharacteristic(link,char) for char in characteristics]\n",
    "\n",
    "\n",
    "\n",
    "[getMoreCharacteristics(link,['Phone:','Office:']) for link in links]"
   ]
  },
  {
   "cell_type": "code",
   "execution_count": null,
   "metadata": {},
   "outputs": [],
   "source": [
    "def getAnotherCharacteristic(link,characteristic):\n",
    "    pass"
   ]
  },
  {
   "cell_type": "markdown",
   "metadata": {},
   "source": [
    "* Let's do an object!"
   ]
  },
  {
   "cell_type": "code",
   "execution_count": 76,
   "metadata": {},
   "outputs": [],
   "source": [
    "class Person:\n",
    "    def __init__(self,link):\n",
    "        self.soup = getSoup(link)\n",
    "        self.office = self.getNextSiblingOfStrong('Office:')\n",
    "        self.phone = self.getNextSiblingOfStrong('Phone:')\n",
    "        \n",
    "    def getNextSiblingOfStrong(self,characteristic):\n",
    "        strong = self.soup.find('strong',text=characteristic)\n",
    "        return strong.next_sibling\n",
    "\n",
    "people = [Person(link) for link in links]"
   ]
  },
  {
   "cell_type": "code",
   "execution_count": 78,
   "metadata": {},
   "outputs": [
    {
     "data": {
      "text/plain": [
       "[' 503',\n",
       " ' 402',\n",
       " ' 311',\n",
       " ' ',\n",
       " ' 410',\n",
       " ' 503',\n",
       " ' O408(IES), 225(UTIA)',\n",
       " ' 410',\n",
       " ' 510',\n",
       " ' 311',\n",
       " ' on leave at JVI',\n",
       " ' 107',\n",
       " ' 2P312 (CNB), 311 IES',\n",
       " ' 311',\n",
       " ' 408',\n",
       " ' 509',\n",
       " ' 311',\n",
       " ' 409',\n",
       " ' 311',\n",
       " ' 408',\n",
       " ' 510',\n",
       " ' 509',\n",
       " ' 508',\n",
       " ' ',\n",
       " ' 602',\n",
       " ' 406',\n",
       " ' 406 IES, 247 UTIA',\n",
       " ' 511',\n",
       " ' 602',\n",
       " ' 402',\n",
       " ' IES 602',\n",
       " ' 602',\n",
       " ' 311',\n",
       " ' 408',\n",
       " ' 402',\n",
       " ' #408, EnvCntr #1617',\n",
       " ' Bethesda, Maryland',\n",
       " ' 311',\n",
       " ' 311',\n",
       " ' 602',\n",
       " ' 406',\n",
       " ' ',\n",
       " ' 511',\n",
       " ' 206a',\n",
       " ' 508',\n",
       " ' 503',\n",
       " ' 407',\n",
       " ' 402',\n",
       " ' 602',\n",
       " ' 602']"
      ]
     },
     "execution_count": 78,
     "metadata": {},
     "output_type": "execute_result"
    }
   ],
   "source": [
    "[p.office for p in people]"
   ]
  },
  {
   "cell_type": "markdown",
   "metadata": {},
   "source": [
    "## Thesis characteristics?"
   ]
  },
  {
   "cell_type": "code",
   "execution_count": null,
   "metadata": {},
   "outputs": [],
   "source": [
    "dl = IES_Downloader(allowLog=False)\n",
    "dl.getThesesLinksForCategory('http://ies.fsv.cuni.cz/en/node/270/','Doctoral')\n",
    "thesesLinks = dl.links['theses']['Doctoral']"
   ]
  },
  {
   "cell_type": "code",
   "execution_count": null,
   "metadata": {},
   "outputs": [],
   "source": []
  },
  {
   "cell_type": "code",
   "execution_count": null,
   "metadata": {},
   "outputs": [],
   "source": [
    "class Thesis:\n",
    "    def __init__(self,link):\n",
    "        pass\n",
    "\n",
    "theses = []\n",
    "for t in tqdm(thesesLinks):\n",
    "    theses.append(Thesis(t))"
   ]
  },
  {
   "cell_type": "code",
   "execution_count": null,
   "metadata": {},
   "outputs": [],
   "source": []
  },
  {
   "cell_type": "markdown",
   "metadata": {},
   "source": [
    "* We are lazy programmers!"
   ]
  },
  {
   "cell_type": "code",
   "execution_count": null,
   "metadata": {},
   "outputs": [],
   "source": [
    "class Parent:\n",
    "    pass\n",
    "\n",
    "class Thesis(Parent):\n",
    "    pass\n",
    "\n",
    "class Person(Parent):\n",
    "    pass"
   ]
  },
  {
   "cell_type": "markdown",
   "metadata": {},
   "source": [
    "See **IES_Pages.py**"
   ]
  },
  {
   "cell_type": "markdown",
   "metadata": {},
   "source": [
    "### Last object missing"
   ]
  },
  {
   "cell_type": "code",
   "execution_count": null,
   "metadata": {},
   "outputs": [],
   "source": []
  },
  {
   "cell_type": "markdown",
   "metadata": {},
   "source": [
    "see **IES_Downloader.py**"
   ]
  },
  {
   "cell_type": "markdown",
   "metadata": {},
   "source": [
    "# Object Structure"
   ]
  },
  {
   "cell_type": "code",
   "execution_count": null,
   "metadata": {},
   "outputs": [],
   "source": []
  },
  {
   "cell_type": "code",
   "execution_count": null,
   "metadata": {},
   "outputs": [],
   "source": []
  },
  {
   "cell_type": "code",
   "execution_count": null,
   "metadata": {},
   "outputs": [],
   "source": []
  },
  {
   "cell_type": "code",
   "execution_count": null,
   "metadata": {},
   "outputs": [],
   "source": []
  },
  {
   "cell_type": "code",
   "execution_count": null,
   "metadata": {},
   "outputs": [],
   "source": []
  }
 ],
 "metadata": {
  "kernelspec": {
   "display_name": "Python 3",
   "language": "python",
   "name": "python3"
  },
  "language_info": {
   "codemirror_mode": {
    "name": "ipython",
    "version": 3
   },
   "file_extension": ".py",
   "mimetype": "text/x-python",
   "name": "python",
   "nbconvert_exporter": "python",
   "pygments_lexer": "ipython3",
   "version": "3.7.1"
  }
 },
 "nbformat": 4,
 "nbformat_minor": 2
}

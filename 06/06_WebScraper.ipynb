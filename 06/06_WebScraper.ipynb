{
 "cells": [
  {
   "cell_type": "code",
   "execution_count": null,
   "metadata": {},
   "outputs": [],
   "source": []
  },
  {
   "cell_type": "code",
   "execution_count": 1,
   "metadata": {},
   "outputs": [],
   "source": [
    "#!pip install tqdm\n",
    "from IES_Downloader import IES_Downloader\n",
    "import pandas as pd"
   ]
  },
  {
   "cell_type": "code",
   "execution_count": 2,
   "metadata": {},
   "outputs": [
    {
     "name": "stdout",
     "output_type": "stream",
     "text": [
      "Succesfully initialized IES Downloader\n",
      "Searching for Person-links of Interní on http://ies.fsv.cuni.cz/cs/node/48 ...\n",
      "Found 50 Person-links for Interní\n",
      "Searching for Person-links of Externí on http://ies.fsv.cuni.cz/cs/node/49 ...\n",
      "Found 77 Person-links for Externí\n",
      "Searching for Person-links of Doktorandi on http://ies.fsv.cuni.cz/cs/node/51 ...\n",
      "Found 79 Person-links for Doktorandi\n",
      "Searching for Person-links of Administrativa on http://ies.fsv.cuni.cz/cs/node/50 ...\n",
      "Found 8 Person-links for Administrativa\n",
      "Searching for theses-links of Diplomové on http://ies.fsv.cuni.cz/cs/node/112/ ...\n",
      "Found 1246 Theses-links for Diplomové\n",
      "Searching for theses-links of Bakalářské on http://ies.fsv.cuni.cz/cs/node/111/ ...\n",
      "Found 1110 Theses-links for Bakalářské\n",
      "Searching for theses-links of Rigorózní on http://ies.fsv.cuni.cz/cs/node/113/ ...\n",
      "Found 191 Theses-links for Rigorózní\n",
      "Searching for theses-links of Disertační on http://ies.fsv.cuni.cz/cs/node/270/ ...\n"
     ]
    },
    {
     "name": "stderr",
     "output_type": "stream",
     "text": [
      "Interní:   0%|          | 0/50 [00:00<?, ?it/s]"
     ]
    },
    {
     "name": "stdout",
     "output_type": "stream",
     "text": [
      "Found 83 Theses-links for Disertační\n",
      "Downloading all 214 persons ...\n"
     ]
    },
    {
     "name": "stderr",
     "output_type": "stream",
     "text": [
      "Interní: 100%|██████████| 50/50 [00:21<00:00,  2.33it/s]\n",
      "Externí: 100%|██████████| 77/77 [00:33<00:00,  2.30it/s]\n",
      "Doktorandi: 100%|██████████| 79/79 [00:34<00:00,  2.31it/s]\n",
      "Administrativa: 100%|██████████| 8/8 [00:03<00:00,  2.32it/s]\n",
      "Courses:   0%|          | 0/159 [00:00<?, ?it/s]"
     ]
    },
    {
     "name": "stdout",
     "output_type": "stream",
     "text": [
      "Succesfully downloaded 214 persons\n",
      "Looking for course links in already downloaded persons  ...\n",
      "Among 214 persons found 159 unique courses\n",
      "Downloading all 159 courses ...\n"
     ]
    },
    {
     "name": "stderr",
     "output_type": "stream",
     "text": [
      "Courses: 100%|██████████| 159/159 [01:09<00:00,  2.43it/s]\n",
      "Diplomové:   0%|          | 0/1246 [00:00<?, ?it/s]"
     ]
    },
    {
     "name": "stdout",
     "output_type": "stream",
     "text": [
      "Succesfully downloaded 159 courses\n",
      "Downloading all 2630 theses ...\n"
     ]
    },
    {
     "name": "stderr",
     "output_type": "stream",
     "text": [
      "Diplomové: 100%|██████████| 1246/1246 [08:06<00:00,  2.58it/s]\n",
      "Bakalářské: 100%|██████████| 1110/1110 [07:15<00:00,  2.63it/s]\n",
      "Rigorózní: 100%|██████████| 191/191 [01:13<00:00,  2.58it/s]\n",
      "Disertační: 100%|██████████| 83/83 [00:31<00:00,  2.61it/s]"
     ]
    },
    {
     "name": "stdout",
     "output_type": "stream",
     "text": [
      "Succesfully downloaded 2630 theses\n"
     ]
    },
    {
     "name": "stderr",
     "output_type": "stream",
     "text": [
      "\n"
     ]
    }
   ],
   "source": [
    "#Initialize downloader\n",
    "dl = IES_Downloader()\n",
    "\n",
    "# find all links for people\n",
    "dl.getPeopleLinksForCategory('http://ies.fsv.cuni.cz/cs/node/48','Interní')\n",
    "dl.getPeopleLinksForCategory('http://ies.fsv.cuni.cz/cs/node/49','Externí')\n",
    "dl.getPeopleLinksForCategory('http://ies.fsv.cuni.cz/cs/node/51','Doktorandi')\n",
    "dl.getPeopleLinksForCategory('http://ies.fsv.cuni.cz/cs/node/50','Administrativa')\n",
    "\n",
    "# find all links for theses \n",
    "dl.getThesesLinksForCategory('http://ies.fsv.cuni.cz/cs/node/112/','Diplomové')\n",
    "dl.getThesesLinksForCategory('http://ies.fsv.cuni.cz/cs/node/111/','Bakalářské')\n",
    "dl.getThesesLinksForCategory('http://ies.fsv.cuni.cz/cs/node/113/','Rigorózní')\n",
    "dl.getThesesLinksForCategory('http://ies.fsv.cuni.cz/cs/node/270/','Disertační')\n",
    "\n",
    "# donload all people from already downloaded links\n",
    "dl.downloadPeople()\n",
    "\n",
    "# find all links on courses from already parsed people\n",
    "dl.getCoursesLinksFromPersons()\n",
    "\n",
    "# download all courses from already downloaded links\n",
    "dl.downloadCourses()\n",
    "\n",
    "# download all theses from already downloaded links\n",
    "dl.downloadTheses()"
   ]
  },
  {
   "cell_type": "code",
   "execution_count": null,
   "metadata": {},
   "outputs": [],
   "source": []
  },
  {
   "cell_type": "code",
   "execution_count": null,
   "metadata": {},
   "outputs": [],
   "source": [
    "#import sys\n",
    "#sys.setrecursionlimit(10000)\n",
    "\n",
    "#import pickle\n",
    "#with open('IES_dl.pkl','wb') as f:\n",
    "#    pickle.dump(dl,f)\n",
    "#dlnew = pickle.load(open('IES_dl.pkl','rb'))"
   ]
  },
  {
   "cell_type": "code",
   "execution_count": null,
   "metadata": {},
   "outputs": [],
   "source": []
  },
  {
   "cell_type": "code",
   "execution_count": null,
   "metadata": {},
   "outputs": [],
   "source": [
    "theses = pd.DataFrame([x.characteristics for x in dl.theses])\n",
    "courses = pd.DataFrame([x.characteristics for x in dl.courses])\n",
    "people =  pd.DataFrame([x.characteristics for x in dl.people]) "
   ]
  }
 ],
 "metadata": {
  "kernelspec": {
   "display_name": "Python 3",
   "language": "python",
   "name": "python3"
  },
  "language_info": {
   "codemirror_mode": {
    "name": "ipython",
    "version": 3
   },
   "file_extension": ".py",
   "mimetype": "text/x-python",
   "name": "python",
   "nbconvert_exporter": "python",
   "pygments_lexer": "ipython3",
   "version": "3.7.1"
  }
 },
 "nbformat": 4,
 "nbformat_minor": 2
}
